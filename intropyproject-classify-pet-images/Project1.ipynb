{
 "cells": [
  {
   "cell_type": "code",
   "execution_count": 1,
   "metadata": {
    "scrolled": false
   },
   "outputs": [
    {
     "ename": "ModuleNotFoundError",
     "evalue": "No module named 'torchvision'",
     "output_type": "error",
     "traceback": [
      "\u001b[1;31m---------------------------------------------------------------------------\u001b[0m",
      "\u001b[1;31mModuleNotFoundError\u001b[0m                       Traceback (most recent call last)",
      "\u001b[1;32m<ipython-input-1-243aba0046b2>\u001b[0m in \u001b[0;36m<module>\u001b[1;34m\u001b[0m\n\u001b[0;32m     32\u001b[0m \u001b[1;32mfrom\u001b[0m \u001b[0mget_input_args\u001b[0m \u001b[1;32mimport\u001b[0m \u001b[0mget_input_args\u001b[0m\u001b[1;33m\u001b[0m\u001b[1;33m\u001b[0m\u001b[0m\n\u001b[0;32m     33\u001b[0m \u001b[1;32mfrom\u001b[0m \u001b[0mget_pet_labels\u001b[0m \u001b[1;32mimport\u001b[0m \u001b[0mget_pet_labels\u001b[0m\u001b[1;33m\u001b[0m\u001b[1;33m\u001b[0m\u001b[0m\n\u001b[1;32m---> 34\u001b[1;33m \u001b[1;32mfrom\u001b[0m \u001b[0mclassify_images\u001b[0m \u001b[1;32mimport\u001b[0m \u001b[0mclassify_images\u001b[0m\u001b[1;33m\u001b[0m\u001b[1;33m\u001b[0m\u001b[0m\n\u001b[0m\u001b[0;32m     35\u001b[0m \u001b[1;32mfrom\u001b[0m \u001b[0madjust_results4_isadog\u001b[0m \u001b[1;32mimport\u001b[0m \u001b[0madjust_results4_isadog\u001b[0m\u001b[1;33m\u001b[0m\u001b[1;33m\u001b[0m\u001b[0m\n\u001b[0;32m     36\u001b[0m \u001b[1;32mfrom\u001b[0m \u001b[0mcalculates_results_stats\u001b[0m \u001b[1;32mimport\u001b[0m \u001b[0mcalculates_results_stats\u001b[0m\u001b[1;33m\u001b[0m\u001b[1;33m\u001b[0m\u001b[0m\n",
      "\u001b[1;32mD:\\Downloads\\Nd\\AI Programming with Python v2.0.0\\Project\\p1\\intropyproject-classify-pet-images\\classify_images.py\u001b[0m in \u001b[0;36m<module>\u001b[1;34m\u001b[0m\n\u001b[0;32m     22\u001b[0m \u001b[1;31m##\u001b[0m\u001b[1;33m\u001b[0m\u001b[1;33m\u001b[0m\u001b[1;33m\u001b[0m\u001b[0m\n\u001b[0;32m     23\u001b[0m \u001b[1;31m# Imports classifier function for using CNN to classify images\u001b[0m\u001b[1;33m\u001b[0m\u001b[1;33m\u001b[0m\u001b[1;33m\u001b[0m\u001b[0m\n\u001b[1;32m---> 24\u001b[1;33m \u001b[1;32mfrom\u001b[0m \u001b[0mclassifier\u001b[0m \u001b[1;32mimport\u001b[0m \u001b[0mclassifier\u001b[0m\u001b[1;33m\u001b[0m\u001b[1;33m\u001b[0m\u001b[0m\n\u001b[0m\u001b[0;32m     25\u001b[0m \u001b[1;33m\u001b[0m\u001b[0m\n\u001b[0;32m     26\u001b[0m \u001b[1;31m# TODO 3: Define classify_images function below, specifically replace the None\u001b[0m\u001b[1;33m\u001b[0m\u001b[1;33m\u001b[0m\u001b[1;33m\u001b[0m\u001b[0m\n",
      "\u001b[1;32mD:\\Downloads\\Nd\\AI Programming with Python v2.0.0\\Project\\p1\\intropyproject-classify-pet-images\\classifier.py\u001b[0m in \u001b[0;36m<module>\u001b[1;34m\u001b[0m\n\u001b[0;32m      1\u001b[0m \u001b[1;32mimport\u001b[0m \u001b[0mast\u001b[0m\u001b[1;33m\u001b[0m\u001b[1;33m\u001b[0m\u001b[0m\n\u001b[0;32m      2\u001b[0m \u001b[1;32mfrom\u001b[0m \u001b[0mPIL\u001b[0m \u001b[1;32mimport\u001b[0m \u001b[0mImage\u001b[0m\u001b[1;33m\u001b[0m\u001b[1;33m\u001b[0m\u001b[0m\n\u001b[1;32m----> 3\u001b[1;33m \u001b[1;32mimport\u001b[0m \u001b[0mtorchvision\u001b[0m\u001b[1;33m.\u001b[0m\u001b[0mtransforms\u001b[0m \u001b[1;32mas\u001b[0m \u001b[0mtransforms\u001b[0m\u001b[1;33m\u001b[0m\u001b[1;33m\u001b[0m\u001b[0m\n\u001b[0m\u001b[0;32m      4\u001b[0m \u001b[1;32mfrom\u001b[0m \u001b[0mtorch\u001b[0m\u001b[1;33m.\u001b[0m\u001b[0mautograd\u001b[0m \u001b[1;32mimport\u001b[0m \u001b[0mVariable\u001b[0m\u001b[1;33m\u001b[0m\u001b[1;33m\u001b[0m\u001b[0m\n\u001b[0;32m      5\u001b[0m \u001b[1;32mimport\u001b[0m \u001b[0mtorchvision\u001b[0m\u001b[1;33m.\u001b[0m\u001b[0mmodels\u001b[0m \u001b[1;32mas\u001b[0m \u001b[0mmodels\u001b[0m\u001b[1;33m\u001b[0m\u001b[1;33m\u001b[0m\u001b[0m\n",
      "\u001b[1;31mModuleNotFoundError\u001b[0m: No module named 'torchvision'"
     ]
    }
   ],
   "source": [
    "#!/usr/bin/env python3\n",
    "# -*- coding: utf-8 -*-\n",
    "# */AIPND-revision/intropyproject-classify-pet-images/check_images.py\n",
    "#                                                                            \n",
    "# PROGRAMMER: Mike Ajala\n",
    "# DATE CREATED: 10/20/2019\n",
    "# REVISED DATE: \n",
    "# PURPOSE: Classifies pet images using a pretrained CNN model, compares these\n",
    "#          classifications to the true identity of the pets in the images, and\n",
    "#          summarizes how well the CNN performed on the image classification task. \n",
    "#          Note that the true identity of the pet (or object) in the image is \n",
    "#          indicated by the filename of the image. Therefore, your program must\n",
    "#          first extract the pet image label from the filename before\n",
    "#          classifying the images using the pretrained CNN model. With this \n",
    "#          program we will be comparing the performance of 3 different CNN model\n",
    "#          architectures to determine which provides the 'best' classification.\n",
    "#\n",
    "# Use argparse Expected Call with <> indicating expected user input:\n",
    "#      python check_images.py --dir <directory with images> --arch <model>\n",
    "#             --dogfile <file that contains dognames>\n",
    "#   Example call:\n",
    "#    python check_images_solution.py --dir pet_images/ --arch vgg --dogfile dognames.txt\n",
    "##\n",
    "\n",
    "# Imports python modules\n",
    "from time import time, sleep\n",
    "\n",
    "# Imports print functions that check the lab\n",
    "from print_functions_for_lab_checks import *\n",
    "\n",
    "# Imports functions created for this program\n",
    "from get_input_args import get_input_args\n",
    "from get_pet_labels import get_pet_labels\n",
    "from classify_images import classify_images\n",
    "from adjust_results4_isadog import adjust_results4_isadog\n",
    "from calculates_results_stats import calculates_results_stats\n",
    "from print_results import print_results\n",
    "\n",
    "# Main program function defined below\n",
    "def main():\n",
    "    # TODO 0: Measures total program runtime by collecting start time\n",
    "    start_time = time()\n",
    "    sleep(200)\n",
    "    \n",
    "    # TODO 1: Define get_input_args function within the file get_input_args.py\n",
    "    # This function retrieves 3 Command Line Arugments from user as input from\n",
    "    # the user running the program from a terminal window. This function returns\n",
    "    # the collection of these command line arguments from the function call as\n",
    "    # the variable in_arg\n",
    "    in_arg = get_input_args()\n",
    "\n",
    "    # Function that checks command line arguments using in_arg  \n",
    "    check_command_line_arguments(in_arg)\n",
    "\n",
    "    \n",
    "    # TODO 2: Define get_pet_labels function within the file get_pet_labels.py\n",
    "    # Once the get_pet_labels function has been defined replace 'None' \n",
    "    # in the function call with in_arg.dir  Once you have done the replacements\n",
    "    # your function call should look like this: \n",
    "    #             get_pet_labels(in_arg.dir)\n",
    "    # This function creates the results dictionary that contains the results, \n",
    "    # this dictionary is returned from the function call as the variable results\n",
    "    results = get_pet_labels(None)\n",
    "\n",
    "    # Function that checks Pet Images in the results Dictionary using results    \n",
    "    check_creating_pet_image_labels(results)\n",
    "\n",
    "\n",
    "    # TODO 3: Define classify_images function within the file classify_images.py\n",
    "    # Once the classify_images function has been defined replace first 'None' \n",
    "    # in the function call with in_arg.dir and replace the last 'None' in the\n",
    "    # function call with in_arg.arch  Once you have done the replacements your\n",
    "    # function call should look like this: \n",
    "    #             classify_images(in_arg.dir, results, in_arg.arch)\n",
    "    # Creates Classifier Labels with classifier function, Compares Labels, \n",
    "    # and adds these results to the results dictionary - results\n",
    "    classify_images(None, results, None)\n",
    "\n",
    "    # Function that checks Results Dictionary using results    \n",
    "    check_classifying_images(results)    \n",
    "\n",
    "    \n",
    "    # TODO 4: Define adjust_results4_isadog function within the file adjust_results4_isadog.py\n",
    "    # Once the adjust_results4_isadog function has been defined replace 'None' \n",
    "    # in the function call with in_arg.dogfile  Once you have done the \n",
    "    # replacements your function call should look like this: \n",
    "    #          adjust_results4_isadog(results, in_arg.dogfile)\n",
    "    # Adjusts the results dictionary to determine if classifier correctly \n",
    "    # classified images as 'a dog' or 'not a dog'. This demonstrates if \n",
    "    # model can correctly classify dog images as dogs (regardless of breed)\n",
    "    adjust_results4_isadog(results, None)\n",
    "\n",
    "    # Function that checks Results Dictionary for is-a-dog adjustment using results\n",
    "    check_classifying_labels_as_dogs(results)\n",
    "\n",
    "\n",
    "    # TODO 5: Define calculates_results_stats function within the file calculates_results_stats.py\n",
    "    # This function creates the results statistics dictionary that contains a\n",
    "    # summary of the results statistics (this includes counts & percentages). This\n",
    "    # dictionary is returned from the function call as the variable results_stats    \n",
    "    # Calculates results of run and puts statistics in the Results Statistics\n",
    "    # Dictionary - called results_stats\n",
    "    results_stats = calculates_results_stats(results)\n",
    "\n",
    "    # Function that checks Results Statistics Dictionary using results_stats\n",
    "    check_calculating_results(results, results_stats)\n",
    "\n",
    "\n",
    "    # TODO 6: Define print_results function within the file print_results.py\n",
    "    # Once the print_results function has been defined replace 'None' \n",
    "    # in the function call with in_arg.arch  Once you have done the \n",
    "    # replacements your function call should look like this: \n",
    "    #      print_results(results, results_stats, in_arg.arch, True, True)\n",
    "    # Prints summary results, incorrect classifications of dogs (if requested)\n",
    "    # and incorrectly classified breeds (if requested)\n",
    "    print_results(results, results_stats, None, True, True)\n",
    "    \n",
    "    # TODO 0: Measure total program runtime by collecting end time\n",
    "    end_time = time()\n",
    "    \n",
    "    # TODO 0: Computes overall runtime in seconds & prints it in hh:mm:ss format\n",
    "    tot_time = end_time - start_time\n",
    "    print(\"\\n** Total Elapsed Runtime:\",\n",
    "          str(int((tot_time/3600)))+\":\"+str(int((tot_time%3600)/60))+\":\"\n",
    "          +str(int((tot_time%3600)%60)) )\n",
    "    # Reinventing my print format\n",
    "    print(\"\\n** Total Elapsed Runtime:\\t{}:{}:{}\".format(tot_time//3600, (tot_time%3600)//60, (tot_time%3600)%60))\n",
    "    \n",
    "\n",
    "# Call to main function to run the program\n",
    "if __name__ == \"__main__\":\n",
    "    main()\n"
   ]
  },
  {
   "cell_type": "code",
   "execution_count": 6,
   "metadata": {},
   "outputs": [
    {
     "name": "stdout",
     "output_type": "stream",
     "text": [
      "\n",
      "** Total Elapsed Runtime: 0:0:2\n",
      "\n",
      "** Total Elapsed Runtime: 0:0:2\n"
     ]
    }
   ],
   "source": [
    "from time import time, sleep\n",
    "\n",
    "def main():\n",
    "    start_time = time()\n",
    "    sleep(2)\n",
    "    end_time = time()\n",
    "    tot_time = end_time - start_time\n",
    "    print(\"\\n** Total Elapsed Runtime:\",\n",
    "          str(int((tot_time/3600)))+\":\"+str(int((tot_time%3600)/60))+\":\"\n",
    "          +str(int((tot_time%3600)%60)) )\n",
    "    # Reinventing my print format\n",
    "    print(\"\\n** Total Elapsed Runtime: {}:{}:{}\".format(int(tot_time//3600),\n",
    "         int((tot_time%3600)//60), int((tot_time%3600)%60)))\n",
    "    \n",
    "\n",
    "# Call to main function to run the program\n",
    "if __name__ == \"__main__\":\n",
    "    main()\n"
   ]
  },
  {
   "cell_type": "code",
   "execution_count": 2,
   "metadata": {},
   "outputs": [
    {
     "data": {
      "text/plain": [
       "2.0"
      ]
     },
     "execution_count": 2,
     "metadata": {},
     "output_type": "execute_result"
    }
   ],
   "source": [
    "10.2//5"
   ]
  }
 ],
 "metadata": {
  "kernelspec": {
   "display_name": "Python 3",
   "language": "python",
   "name": "python3"
  },
  "language_info": {
   "codemirror_mode": {
    "name": "ipython",
    "version": 3
   },
   "file_extension": ".py",
   "mimetype": "text/x-python",
   "name": "python",
   "nbconvert_exporter": "python",
   "pygments_lexer": "ipython3",
   "version": "3.7.3"
  }
 },
 "nbformat": 4,
 "nbformat_minor": 2
}
